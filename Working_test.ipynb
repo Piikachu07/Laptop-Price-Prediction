{
 "cells": [
  {
   "cell_type": "code",
   "execution_count": 1,
   "id": "e6d20d7b-0a70-4f0f-9499-2f7d801733a1",
   "metadata": {},
   "outputs": [],
   "source": [
    "import modelbit"
   ]
  },
  {
   "cell_type": "code",
   "execution_count": null,
   "id": "b96a99c1-cfd2-4e79-ae74-70c03197175a",
   "metadata": {},
   "outputs": [],
   "source": [
    "modelbit.get_inference(\n",
    "  region=\"us-east-1.aws\",\n",
    "  workspace=\"pankajjangid\",\n",
    "  deployment=\"Laptop_price_prediction\",\n",
    "  data=['Apple', 'Ultrabook',8, 'Windos', 1.69, 0, 1, ppi, Cpu_brand, HDD, SSD, Gpu_brand]\n",
    ")"
   ]
  }
 ],
 "metadata": {
  "kernelspec": {
   "display_name": "Python 3 (ipykernel)",
   "language": "python",
   "name": "python3"
  },
  "language_info": {
   "codemirror_mode": {
    "name": "ipython",
    "version": 3
   },
   "file_extension": ".py",
   "mimetype": "text/x-python",
   "name": "python",
   "nbconvert_exporter": "python",
   "pygments_lexer": "ipython3",
   "version": "3.11.4"
  }
 },
 "nbformat": 4,
 "nbformat_minor": 5
}
